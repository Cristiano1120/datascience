{
  "nbformat": 4,
  "nbformat_minor": 0,
  "metadata": {
    "colab": {
      "provenance": [],
      "authorship_tag": "ABX9TyMq5C/+mv8W6Tg6Jk6/rXNP"
    },
    "kernelspec": {
      "name": "python3",
      "display_name": "Python 3"
    },
    "language_info": {
      "name": "python"
    }
  },
  "cells": [
    {
      "cell_type": "markdown",
      "source": [
        "O Dataset usado neste MVP é \"Wholesale customers Data Set', o qual refere-se a clientes de um distribuidor atacadista. Essa segmentação dos clientes pode ajudar a entender melhor as necessidades e preferências dos clientes, permitindo que o distribuidor atacadista direcione suas estratégias de marketing de forma mais eficiente, oferecendo produtos específicos e personalizados de cada segmento, de acordo  aos padrões de vendas nas diferentes categorias de produtos por região. O dataset em questão esta disponivel no Kaggle.\n",
        "\n",
        "Esse dataset consiste da venda de varios departamentos em diversas categorias de produtos do atacado, incluindo o gasto anual em unidades monetárias (m.u.).\n",
        "\n",
        "O dataset apresenta  oito atributos relacionados a venda de protudos e uma variável de classe  Channel: Horeca (Hotel/Restaurante/Café) ou Canal Retalho (nominal), binária  (1 ou 2).\n",
        "\n",
        "1 - Fresh (Fresco): gasto anual (m.u.) em produtos frescos;\n",
        "\n",
        "2 - Milk (Leite): gasto anual (m.u.) com produtos lácteos;\n",
        "\n",
        "3 - Grocery (Mercearia): gasto anual (m.u.) em produtos de mercearia;\n",
        "\n",
        "4 - Frozen (Congelados): gastos anuais (m.u.) com produtos congelados;\n",
        "\n",
        "5 - Detergents_Paper (Detergente e papel): gasto anual (m.u.) em detergentes e produtos de papel;\n",
        "\n",
        "6 - Delicassen (Frageis): gasto anual (m.u.) em produtos frageis;\n",
        "\n",
        "7 - Channel (Canal): Canal dos clientes - Horeca (Hotel/Restaurante/Café) ou Canal Retalho (nominal);\n",
        "\n",
        "8 - Region (Região): Região dos clientes – Lisboa, Porto ou Outra.\n",
        "\n",
        "                        \n"
      ],
      "metadata": {
        "id": "ZAZ0SbpGKt5O"
      }
    },
    {
      "cell_type": "code",
      "source": [
        "# configuração para não exibir os warnings\n",
        "import warnings\n",
        "warnings.filterwarnings('ignore')\n",
        "\n",
        "# Imports necessários\n",
        "import pandas as pd\n",
        "import numpy as np\n",
        "import matplotlib.pyplot as plt\n",
        "from sklearn.preprocessing import StandardScaler\n",
        "from sklearn.preprocessing import MinMaxScaler\n",
        "from sklearn.model_selection import train_test_split\n",
        "from sklearn.model_selection import KFold\n",
        "from sklearn.model_selection import StratifiedKFold\n",
        "from sklearn.model_selection import cross_val_score\n",
        "from sklearn.model_selection import GridSearchCV\n",
        "from sklearn.metrics import accuracy_score\n",
        "from sklearn.pipeline import Pipeline\n",
        "from sklearn.linear_model import LogisticRegression\n",
        "from sklearn.tree import DecisionTreeClassifier\n",
        "from sklearn.neighbors import KNeighborsClassifier\n",
        "from sklearn.naive_bayes import GaussianNB\n",
        "from sklearn.svm import SVC\n",
        "from sklearn.ensemble import BaggingClassifier\n",
        "from sklearn.ensemble import RandomForestClassifier\n",
        "from sklearn.ensemble import ExtraTreesClassifier\n",
        "from sklearn.ensemble import VotingClassifier\n",
        "from sklearn.ensemble import AdaBoostClassifier\n",
        "from sklearn.ensemble import GradientBoostingClassifier"
      ],
      "metadata": {
        "id": "FO7085VGPKVq"
      },
      "execution_count": null,
      "outputs": []
    },
    {
      "cell_type": "markdown",
      "source": [
        "Utilizando o pandas irei realizar o carregamento do dataset a partir da URL onde ele esta disponível no Ghithub, carregando-o para a variável dataset e exibir as primeiras linhas conforme a seguir:"
      ],
      "metadata": {
        "id": "Wk7oXv7APX-x"
      }
    },
    {
      "cell_type": "code",
      "source": [
        "# Informa a URL de importação do dataset\n",
        "url = \"https://raw.githubusercontent.com/Cristiano1120/datascience/main/Wholesale_customers_data.csv\"\n",
        "\n",
        "# Lê o arquivo com o parâmetro error_bad_lines=False\n",
        "dataset = pd.read_csv(url, delimiter=',', error_bad_lines=False)\n",
        "\n",
        "# Mostra as primeiras linhas do dataset\n",
        "dataset.head()"
      ],
      "metadata": {
        "colab": {
          "base_uri": "https://localhost:8080/",
          "height": 206
        },
        "id": "p2lZPCmoPmWs",
        "outputId": "c3131c10-5b84-44a0-af1f-5f57fb634c94"
      },
      "execution_count": null,
      "outputs": [
        {
          "output_type": "execute_result",
          "data": {
            "text/plain": [
              "   Channel  Region  Fresh  Milk  Grocery  Frozen  Detergents_Paper  Delicassen\n",
              "0        2       3  12669  9656     7561     214              2674        1338\n",
              "1        2       3   7057  9810     9568    1762              3293        1776\n",
              "2        2       3   6353  8808     7684    2405              3516        7844\n",
              "3        1       3  13265  1196     4221    6404               507        1788\n",
              "4        2       3  22615  5410     7198    3915              1777        5185"
            ],
            "text/html": [
              "\n",
              "\n",
              "  <div id=\"df-56f7906d-0a09-40ab-99b9-1acde11f43e6\">\n",
              "    <div class=\"colab-df-container\">\n",
              "      <div>\n",
              "<style scoped>\n",
              "    .dataframe tbody tr th:only-of-type {\n",
              "        vertical-align: middle;\n",
              "    }\n",
              "\n",
              "    .dataframe tbody tr th {\n",
              "        vertical-align: top;\n",
              "    }\n",
              "\n",
              "    .dataframe thead th {\n",
              "        text-align: right;\n",
              "    }\n",
              "</style>\n",
              "<table border=\"1\" class=\"dataframe\">\n",
              "  <thead>\n",
              "    <tr style=\"text-align: right;\">\n",
              "      <th></th>\n",
              "      <th>Channel</th>\n",
              "      <th>Region</th>\n",
              "      <th>Fresh</th>\n",
              "      <th>Milk</th>\n",
              "      <th>Grocery</th>\n",
              "      <th>Frozen</th>\n",
              "      <th>Detergents_Paper</th>\n",
              "      <th>Delicassen</th>\n",
              "    </tr>\n",
              "  </thead>\n",
              "  <tbody>\n",
              "    <tr>\n",
              "      <th>0</th>\n",
              "      <td>2</td>\n",
              "      <td>3</td>\n",
              "      <td>12669</td>\n",
              "      <td>9656</td>\n",
              "      <td>7561</td>\n",
              "      <td>214</td>\n",
              "      <td>2674</td>\n",
              "      <td>1338</td>\n",
              "    </tr>\n",
              "    <tr>\n",
              "      <th>1</th>\n",
              "      <td>2</td>\n",
              "      <td>3</td>\n",
              "      <td>7057</td>\n",
              "      <td>9810</td>\n",
              "      <td>9568</td>\n",
              "      <td>1762</td>\n",
              "      <td>3293</td>\n",
              "      <td>1776</td>\n",
              "    </tr>\n",
              "    <tr>\n",
              "      <th>2</th>\n",
              "      <td>2</td>\n",
              "      <td>3</td>\n",
              "      <td>6353</td>\n",
              "      <td>8808</td>\n",
              "      <td>7684</td>\n",
              "      <td>2405</td>\n",
              "      <td>3516</td>\n",
              "      <td>7844</td>\n",
              "    </tr>\n",
              "    <tr>\n",
              "      <th>3</th>\n",
              "      <td>1</td>\n",
              "      <td>3</td>\n",
              "      <td>13265</td>\n",
              "      <td>1196</td>\n",
              "      <td>4221</td>\n",
              "      <td>6404</td>\n",
              "      <td>507</td>\n",
              "      <td>1788</td>\n",
              "    </tr>\n",
              "    <tr>\n",
              "      <th>4</th>\n",
              "      <td>2</td>\n",
              "      <td>3</td>\n",
              "      <td>22615</td>\n",
              "      <td>5410</td>\n",
              "      <td>7198</td>\n",
              "      <td>3915</td>\n",
              "      <td>1777</td>\n",
              "      <td>5185</td>\n",
              "    </tr>\n",
              "  </tbody>\n",
              "</table>\n",
              "</div>\n",
              "      <button class=\"colab-df-convert\" onclick=\"convertToInteractive('df-56f7906d-0a09-40ab-99b9-1acde11f43e6')\"\n",
              "              title=\"Convert this dataframe to an interactive table.\"\n",
              "              style=\"display:none;\">\n",
              "\n",
              "  <svg xmlns=\"http://www.w3.org/2000/svg\" height=\"24px\"viewBox=\"0 0 24 24\"\n",
              "       width=\"24px\">\n",
              "    <path d=\"M0 0h24v24H0V0z\" fill=\"none\"/>\n",
              "    <path d=\"M18.56 5.44l.94 2.06.94-2.06 2.06-.94-2.06-.94-.94-2.06-.94 2.06-2.06.94zm-11 1L8.5 8.5l.94-2.06 2.06-.94-2.06-.94L8.5 2.5l-.94 2.06-2.06.94zm10 10l.94 2.06.94-2.06 2.06-.94-2.06-.94-.94-2.06-.94 2.06-2.06.94z\"/><path d=\"M17.41 7.96l-1.37-1.37c-.4-.4-.92-.59-1.43-.59-.52 0-1.04.2-1.43.59L10.3 9.45l-7.72 7.72c-.78.78-.78 2.05 0 2.83L4 21.41c.39.39.9.59 1.41.59.51 0 1.02-.2 1.41-.59l7.78-7.78 2.81-2.81c.8-.78.8-2.07 0-2.86zM5.41 20L4 18.59l7.72-7.72 1.47 1.35L5.41 20z\"/>\n",
              "  </svg>\n",
              "      </button>\n",
              "\n",
              "\n",
              "\n",
              "    <div id=\"df-34012d76-8529-4a6b-951b-ed9951e71fbf\">\n",
              "      <button class=\"colab-df-quickchart\" onclick=\"quickchart('df-34012d76-8529-4a6b-951b-ed9951e71fbf')\"\n",
              "              title=\"Suggest charts.\"\n",
              "              style=\"display:none;\">\n",
              "\n",
              "<svg xmlns=\"http://www.w3.org/2000/svg\" height=\"24px\"viewBox=\"0 0 24 24\"\n",
              "     width=\"24px\">\n",
              "    <g>\n",
              "        <path d=\"M19 3H5c-1.1 0-2 .9-2 2v14c0 1.1.9 2 2 2h14c1.1 0 2-.9 2-2V5c0-1.1-.9-2-2-2zM9 17H7v-7h2v7zm4 0h-2V7h2v10zm4 0h-2v-4h2v4z\"/>\n",
              "    </g>\n",
              "</svg>\n",
              "      </button>\n",
              "    </div>\n",
              "\n",
              "<style>\n",
              "  .colab-df-quickchart {\n",
              "    background-color: #E8F0FE;\n",
              "    border: none;\n",
              "    border-radius: 50%;\n",
              "    cursor: pointer;\n",
              "    display: none;\n",
              "    fill: #1967D2;\n",
              "    height: 32px;\n",
              "    padding: 0 0 0 0;\n",
              "    width: 32px;\n",
              "  }\n",
              "\n",
              "  .colab-df-quickchart:hover {\n",
              "    background-color: #E2EBFA;\n",
              "    box-shadow: 0px 1px 2px rgba(60, 64, 67, 0.3), 0px 1px 3px 1px rgba(60, 64, 67, 0.15);\n",
              "    fill: #174EA6;\n",
              "  }\n",
              "\n",
              "  [theme=dark] .colab-df-quickchart {\n",
              "    background-color: #3B4455;\n",
              "    fill: #D2E3FC;\n",
              "  }\n",
              "\n",
              "  [theme=dark] .colab-df-quickchart:hover {\n",
              "    background-color: #434B5C;\n",
              "    box-shadow: 0px 1px 3px 1px rgba(0, 0, 0, 0.15);\n",
              "    filter: drop-shadow(0px 1px 2px rgba(0, 0, 0, 0.3));\n",
              "    fill: #FFFFFF;\n",
              "  }\n",
              "</style>\n",
              "\n",
              "    <script>\n",
              "      async function quickchart(key) {\n",
              "        const containerElement = document.querySelector('#' + key);\n",
              "        const charts = await google.colab.kernel.invokeFunction(\n",
              "            'suggestCharts', [key], {});\n",
              "      }\n",
              "    </script>\n",
              "\n",
              "      <script>\n",
              "\n",
              "function displayQuickchartButton(domScope) {\n",
              "  let quickchartButtonEl =\n",
              "    domScope.querySelector('#df-34012d76-8529-4a6b-951b-ed9951e71fbf button.colab-df-quickchart');\n",
              "  quickchartButtonEl.style.display =\n",
              "    google.colab.kernel.accessAllowed ? 'block' : 'none';\n",
              "}\n",
              "\n",
              "        displayQuickchartButton(document);\n",
              "      </script>\n",
              "      <style>\n",
              "    .colab-df-container {\n",
              "      display:flex;\n",
              "      flex-wrap:wrap;\n",
              "      gap: 12px;\n",
              "    }\n",
              "\n",
              "    .colab-df-convert {\n",
              "      background-color: #E8F0FE;\n",
              "      border: none;\n",
              "      border-radius: 50%;\n",
              "      cursor: pointer;\n",
              "      display: none;\n",
              "      fill: #1967D2;\n",
              "      height: 32px;\n",
              "      padding: 0 0 0 0;\n",
              "      width: 32px;\n",
              "    }\n",
              "\n",
              "    .colab-df-convert:hover {\n",
              "      background-color: #E2EBFA;\n",
              "      box-shadow: 0px 1px 2px rgba(60, 64, 67, 0.3), 0px 1px 3px 1px rgba(60, 64, 67, 0.15);\n",
              "      fill: #174EA6;\n",
              "    }\n",
              "\n",
              "    [theme=dark] .colab-df-convert {\n",
              "      background-color: #3B4455;\n",
              "      fill: #D2E3FC;\n",
              "    }\n",
              "\n",
              "    [theme=dark] .colab-df-convert:hover {\n",
              "      background-color: #434B5C;\n",
              "      box-shadow: 0px 1px 3px 1px rgba(0, 0, 0, 0.15);\n",
              "      filter: drop-shadow(0px 1px 2px rgba(0, 0, 0, 0.3));\n",
              "      fill: #FFFFFF;\n",
              "    }\n",
              "  </style>\n",
              "\n",
              "      <script>\n",
              "        const buttonEl =\n",
              "          document.querySelector('#df-56f7906d-0a09-40ab-99b9-1acde11f43e6 button.colab-df-convert');\n",
              "        buttonEl.style.display =\n",
              "          google.colab.kernel.accessAllowed ? 'block' : 'none';\n",
              "\n",
              "        async function convertToInteractive(key) {\n",
              "          const element = document.querySelector('#df-56f7906d-0a09-40ab-99b9-1acde11f43e6');\n",
              "          const dataTable =\n",
              "            await google.colab.kernel.invokeFunction('convertToInteractive',\n",
              "                                                     [key], {});\n",
              "          if (!dataTable) return;\n",
              "\n",
              "          const docLinkHtml = 'Like what you see? Visit the ' +\n",
              "            '<a target=\"_blank\" href=https://colab.research.google.com/notebooks/data_table.ipynb>data table notebook</a>'\n",
              "            + ' to learn more about interactive tables.';\n",
              "          element.innerHTML = '';\n",
              "          dataTable['output_type'] = 'display_data';\n",
              "          await google.colab.output.renderOutput(dataTable, element);\n",
              "          const docLink = document.createElement('div');\n",
              "          docLink.innerHTML = docLinkHtml;\n",
              "          element.appendChild(docLink);\n",
              "        }\n",
              "      </script>\n",
              "    </div>\n",
              "  </div>\n"
            ]
          },
          "metadata": {},
          "execution_count": 15
        }
      ]
    },
    {
      "cell_type": "markdown",
      "source": [
        "OBSERVAÇÃO: Nesta etapa, poderíamos realizar outras operações se as mesmas fossem necessárias, tais como; a preparação de dados, limpeza entre outros, porem já sabemos de antemão que o conjunto de dados já está limpo."
      ],
      "metadata": {
        "id": "BM5TXxV8F610"
      }
    },
    {
      "cell_type": "markdown",
      "source": [
        "A seguir, será realizado a separação do dataset nas bases de trino e teste, com o método holdout, métrica de acurácia e a configuraçao dos parâmetros de número de 10 folds.\n"
      ],
      "metadata": {
        "id": "TTPFQzO_kMQH"
      }
    },
    {
      "cell_type": "code",
      "source": [
        "test_size = 0.20 # tamanho do conjunto de teste\n",
        "seed = 8 # semente aleatória\n",
        "\n",
        "# Separação em conjuntos de treino e teste\n",
        "array = dataset.values\n",
        "X = array[:,0:8] # Atributos\n",
        "y = array[:,1] # Classe target\n",
        "X_train, X_test, y_train, y_test = train_test_split(X, y,\n",
        "    test_size=test_size, shuffle=True, random_state=seed, stratify=y) # holdout com estratificação\n",
        "\n",
        "# Parâmetros e partições da validação cruzada\n",
        "scoring = 'accuracy'\n",
        "num_particoes = 10\n",
        "kfold = StratifiedKFold(n_splits=num_particoes, shuffle=True, random_state=seed) # validação cruzada com estratificação"
      ],
      "metadata": {
        "id": "lTORrrMGkdyI"
      },
      "execution_count": null,
      "outputs": []
    },
    {
      "cell_type": "markdown",
      "source": [
        "Continuando, aplicando vários modelos diferentes com suas configurações padrão. Utilizaremos os modelos de Regressão Logística, K-vizinhos mais próximos (KNN), Árvores de Classificação (CART), Naive Bayes (NB) e Máquinas de vetores de suporte (SVM). Logo em seguida, utilizarei a validação cruzada para treinar e avaliar os modelos usando a métrica acuracia para a etapa de nodelagem e inferência."
      ],
      "metadata": {
        "id": "45a0glrMshq7"
      }
    },
    {
      "cell_type": "code",
      "source": [
        "np.random.seed(8) # definindo uma semente global\n",
        "\n",
        "# Lista que armazenará os modelos\n",
        "models = []\n",
        "\n",
        "# Criando os modelos e adicionando-os na lista de modelos\n",
        "models.append(('LR', LogisticRegression(max_iter=200)))\n",
        "models.append(('KNN', KNeighborsClassifier()))\n",
        "models.append(('CART', DecisionTreeClassifier()))\n",
        "models.append(('NB', GaussianNB()))\n",
        "models.append(('SVM', SVC()))\n",
        "\n",
        "# Definindo os parâmetros do classificador base para o BaggingClassifier\n",
        "base = DecisionTreeClassifier()\n",
        "num_trees = 100\n",
        "max_features = 2\n",
        "\n",
        "# Criando os modelos para o VotingClassifier\n",
        "bases = []\n",
        "model1 = LogisticRegression(max_iter=200)\n",
        "bases.append(('logistic', model1))\n",
        "model2 = DecisionTreeClassifier()\n",
        "bases.append(('cart', model2))\n",
        "model3 = SVC()\n",
        "bases.append(('svm', model3))\n",
        "\n",
        "# Criando os ensembles e adicionando-os na lista de modelos\n",
        "models.append(('Bagging', BaggingClassifier(base_estimator=base, n_estimators=num_trees)))\n",
        "models.append(('RF', RandomForestClassifier(n_estimators=num_trees, max_features=max_features)))\n",
        "models.append(('ET', ExtraTreesClassifier(n_estimators=num_trees, max_features=max_features)))\n",
        "models.append(('Ada', AdaBoostClassifier(n_estimators=num_trees)))\n",
        "models.append(('GB', GradientBoostingClassifier(n_estimators=num_trees)))\n",
        "models.append(('Voting', VotingClassifier(bases)))\n",
        "\n",
        "# Listas para armazenar os resultados\n",
        "results = []\n",
        "names = []\n",
        "\n",
        "# Avaliação dos modelos\n",
        "for name, model in models:\n",
        "    cv_results = cross_val_score(model, X_train, y_train, cv=kfold, scoring=scoring)\n",
        "    results.append(cv_results)\n",
        "    names.append(name)\n",
        "    msg = \"%s: %f (%f)\" % (name, cv_results.mean(), cv_results.std())\n",
        "    print(msg)\n"
      ],
      "metadata": {
        "colab": {
          "base_uri": "https://localhost:8080/"
        },
        "id": "RyiIeqM3uTs_",
        "outputId": "d59917a4-f6f7-4ec3-a495-74ed7dd53359"
      },
      "execution_count": null,
      "outputs": [
        {
          "output_type": "stream",
          "name": "stdout",
          "text": [
            "LR: 0.730238 (0.027763)\n",
            "KNN: 0.676111 (0.044637)\n",
            "CART: 1.000000 (0.000000)\n",
            "NB: 0.946190 (0.036260)\n",
            "SVM: 0.718889 (0.017391)\n",
            "Bagging: 1.000000 (0.000000)\n",
            "RF: 0.997143 (0.008571)\n",
            "ET: 1.000000 (0.000000)\n",
            "Ada: 1.000000 (0.000000)\n",
            "GB: 1.000000 (0.000000)\n",
            "Voting: 0.755714 (0.022315)\n"
          ]
        }
      ]
    },
    {
      "cell_type": "markdown",
      "source": [
        "Os resultados sugerem que CART, Bagging, ET, Ada e o GB têm pontencial para serem bons modelos. Entretanto, vale observar que esses valores são apenas valores médios de acurácia, sendo prudente avaliar a distribuição de cada fold da validação cruzada, o que será demosntrado a seguir comparando os modelos usando boxplots:"
      ],
      "metadata": {
        "id": "m4xw364Pu_N2"
      }
    },
    {
      "cell_type": "code",
      "source": [
        "# Boxplot de comparação dos modelos\n",
        "fig = plt.figure(figsize=(15,10))\n",
        "fig.suptitle('Comparação dos Modelos')\n",
        "ax = fig.add_subplot(111)\n",
        "plt.boxplot(results)\n",
        "ax.set_xticklabels(names)\n",
        "plt.show()"
      ],
      "metadata": {
        "colab": {
          "base_uri": "https://localhost:8080/",
          "height": 930
        },
        "id": "lnhiY2Vmyhpf",
        "outputId": "0a88bb27-205c-4db3-d8e6-b92f75abbd99"
      },
      "execution_count": null,
      "outputs": [
        {
          "output_type": "display_data",
          "data": {
            "text/plain": [
              "<Figure size 1500x1000 with 1 Axes>"
            ],
            "image/png": "[encoded data removed]"
          },
          "metadata": {}
        }
      ]
    },
    {
      "cell_type": "markdown",
      "source": [
        "Neste passo irei utilizar a biblioteca Pipeline para reptir o processo avaliando o modelo com a validação cruzada com os dados padronizados e normalizados para evitar o vazamento de dados e comparar os resultados dos modelos treinados com os dados orignais:"
      ],
      "metadata": {
        "id": "48UPORhDqogH"
      }
    },
    {
      "cell_type": "code",
      "source": [
        "np.random.seed(8) # definindo uma semente global para este bloco\n",
        "\n",
        "# Listas para armazenar os armazenar os pipelines e os resultados para todas as visões do dataset\n",
        "pipelines = []\n",
        "results = []\n",
        "names = []\n",
        "\n",
        "\n",
        "# Criando os elementos do pipeline\n",
        "\n",
        "# Algoritmos que serão utilizados\n",
        "reg_log = ('LR', LogisticRegression(max_iter=200))\n",
        "knn = ('KNN', KNeighborsClassifier())\n",
        "cart = ('CART', DecisionTreeClassifier())\n",
        "naive_bayes = ('NB', GaussianNB())\n",
        "svm = ('SVM', SVC())\n",
        "bagging = ('Bag', BaggingClassifier(base_estimator=base, n_estimators=num_trees))\n",
        "random_forest = ('RF', RandomForestClassifier(n_estimators=num_trees, max_features=max_features))\n",
        "extra_trees = ('ET', ExtraTreesClassifier(n_estimators=num_trees, max_features=max_features))\n",
        "adaboost = ('Ada', AdaBoostClassifier(n_estimators=num_trees))\n",
        "gradient_boosting = ('GB', GradientBoostingClassifier(n_estimators=num_trees))\n",
        "voting = ('Voting', VotingClassifier(bases))\n",
        "\n",
        "# Transformações que serão utilizadas\n",
        "standard_scaler = ('StandardScaler', StandardScaler())\n",
        "min_max_scaler = ('MinMaxScaler', MinMaxScaler())\n",
        "\n",
        "\n",
        "# Montando os pipelines\n",
        "\n",
        "# Dataset original\n",
        "pipelines.append(('LR-orig', Pipeline([reg_log])))\n",
        "pipelines.append(('KNN-orig', Pipeline([knn])))\n",
        "pipelines.append(('CART-orig', Pipeline([cart])))\n",
        "pipelines.append(('NB-orig', Pipeline([naive_bayes])))\n",
        "pipelines.append(('SVM-orig', Pipeline([svm])))\n",
        "pipelines.append(('Bag-orig', Pipeline([bagging])))\n",
        "pipelines.append(('RF-orig', Pipeline([random_forest])))\n",
        "pipelines.append(('ET-orig', Pipeline([extra_trees])))\n",
        "pipelines.append(('Ada-orig', Pipeline([adaboost])))\n",
        "pipelines.append(('GB-orig', Pipeline([gradient_boosting])))\n",
        "pipelines.append(('Vot-orig', Pipeline([voting])))\n",
        "\n",
        "# Dataset Padronizado\n",
        "pipelines.append(('LR-padr', Pipeline([standard_scaler, reg_log])))\n",
        "pipelines.append(('KNN-padr', Pipeline([standard_scaler, knn])))\n",
        "pipelines.append(('CART-padr', Pipeline([standard_scaler, cart])))\n",
        "pipelines.append(('NB-padr', Pipeline([standard_scaler, naive_bayes])))\n",
        "pipelines.append(('SVM-padr', Pipeline([standard_scaler, svm])))\n",
        "pipelines.append(('Bag-padr', Pipeline([standard_scaler, bagging])))\n",
        "pipelines.append(('RF-padr', Pipeline([standard_scaler, random_forest])))\n",
        "pipelines.append(('ET-padr', Pipeline([standard_scaler, extra_trees])))\n",
        "pipelines.append(('Ada-padr', Pipeline([standard_scaler, adaboost])))\n",
        "pipelines.append(('GB-padr', Pipeline([standard_scaler, gradient_boosting])))\n",
        "pipelines.append(('Vot-padr', Pipeline([standard_scaler, voting])))\n",
        "\n",
        "# Dataset Normalizado\n",
        "pipelines.append(('LR-norm', Pipeline([min_max_scaler, reg_log])))\n",
        "pipelines.append(('KNN-norm', Pipeline([min_max_scaler, knn])))\n",
        "pipelines.append(('CART-norm', Pipeline([min_max_scaler, cart])))\n",
        "pipelines.append(('NB-norm', Pipeline([min_max_scaler, naive_bayes])))\n",
        "pipelines.append(('SVM-norm', Pipeline([min_max_scaler, svm])))\n",
        "pipelines.append(('Bag-norm', Pipeline([min_max_scaler, bagging])))\n",
        "pipelines.append(('RF-norm', Pipeline([min_max_scaler, random_forest])))\n",
        "pipelines.append(('ET-norm', Pipeline([min_max_scaler, extra_trees])))\n",
        "pipelines.append(('Ada-norm', Pipeline([min_max_scaler, adaboost])))\n",
        "pipelines.append(('GB-norm', Pipeline([min_max_scaler, gradient_boosting])))\n",
        "pipelines.append(('Vot-norm', Pipeline([min_max_scaler, voting])))\n",
        "\n",
        "# Executando os pipelines\n",
        "for name, model in pipelines:\n",
        "    cv_results = cross_val_score(model, X_train, y_train, cv=kfold, scoring=scoring)\n",
        "    results.append(cv_results)\n",
        "    names.append(name)\n",
        "    msg = \"%s: %.3f (%.3f)\" % (name, cv_results.mean(), cv_results.std()) # formatando para 3 casas decimais\n",
        "    print(msg)\n",
        "\n",
        "# Boxplot de comparação dos modelos\n",
        "fig = plt.figure(figsize=(25,6))\n",
        "fig.suptitle('Comparação dos Modelos - Dataset orginal, padronizado e normalizado')\n",
        "ax = fig.add_subplot(111)\n",
        "plt.boxplot(results)\n",
        "ax.set_xticklabels(names, rotation=90)\n",
        "plt.show()"
      ],
      "metadata": {
        "colab": {
          "base_uri": "https://localhost:8080/",
          "height": 980
        },
        "id": "YguZJI0KsXbL",
        "outputId": "7d7be58f-a5a9-4c02-979d-ed0fdf4fefd7"
      },
      "execution_count": null,
      "outputs": [
        {
          "output_type": "stream",
          "name": "stdout",
          "text": [
            "LR-orig: 0.730 (0.028)\n",
            "KNN-orig: 0.676 (0.045)\n",
            "CART-orig: 1.000 (0.000)\n",
            "NB-orig: 0.946 (0.036)\n",
            "SVM-orig: 0.719 (0.017)\n",
            "Bag-orig: 1.000 (0.000)\n",
            "RF-orig: 0.997 (0.009)\n",
            "ET-orig: 1.000 (0.000)\n",
            "Ada-orig: 1.000 (0.000)\n",
            "GB-orig: 1.000 (0.000)\n",
            "Vot-orig: 0.756 (0.022)\n",
            "LR-padr: 1.000 (0.000)\n",
            "KNN-padr: 0.974 (0.024)\n",
            "CART-padr: 1.000 (0.000)\n",
            "NB-padr: 1.000 (0.000)\n",
            "SVM-padr: 0.989 (0.019)\n",
            "Bag-padr: 1.000 (0.000)\n",
            "RF-padr: 1.000 (0.000)\n",
            "ET-padr: 0.997 (0.009)\n",
            "Ada-padr: 1.000 (0.000)\n",
            "GB-padr: 1.000 (0.000)\n",
            "Vot-padr: 1.000 (0.000)\n",
            "LR-norm: 0.980 (0.022)\n",
            "KNN-norm: 0.994 (0.011)\n",
            "CART-norm: 1.000 (0.000)\n",
            "NB-norm: 1.000 (0.000)\n",
            "SVM-norm: 0.994 (0.011)\n",
            "Bag-norm: 1.000 (0.000)\n",
            "RF-norm: 1.000 (0.000)\n",
            "ET-norm: 1.000 (0.000)\n",
            "Ada-norm: 1.000 (0.000)\n",
            "GB-norm: 1.000 (0.000)\n",
            "Vot-norm: 1.000 (0.000)\n"
          ]
        },
        {
          "output_type": "display_data",
          "data": {
            "text/plain": [
              "<Figure size 2500x600 with 1 Axes>"
            ],
            "image/png": "[encoded data removed]"
          },
          "metadata": {}
        }
      ]
    },
    {
      "cell_type": "markdown",
      "source": [
        "Neste momento irei executar a otimização dos hiperparâmetros utilizando o SVM o qual gerou melhor resultado tando para a acurácia quanto para o Desvi Padrão utilizando a bibliotéca Grid Search. Vou utilizar a mesma métrica  de valores impares apresentados no exemplo da aula 3, o qual tentou utilizar os valores ímpares de k entre 1 e 21 e as métricas de distância euclidiana, manhattan e minkowski. Cada valor de k e de distância será avaliado usando a validação cruzada 10-fold no conjunto de dados padronizado, que mostrou resultados um pouco melhores do que os dados originais."
      ],
      "metadata": {
        "id": "dq29jxCoyQ1L"
      }
    },
    {
      "cell_type": "code",
      "source": [
        "# Tuning do KNN\n",
        "\n",
        "np.random.seed(8) # definindo uma semente global para este bloco\n",
        "\n",
        "pipelines = []\n",
        "\n",
        "# Definindo os componentes do pipeline\n",
        "knn = ('KNN', KNeighborsClassifier())\n",
        "standard_scaler = ('StandardScaler', StandardScaler())\n",
        "min_max_scaler = ('MinMaxScaler', MinMaxScaler())\n",
        "\n",
        "pipelines.append(('knn-orig', Pipeline(steps=[knn])))\n",
        "pipelines.append(('knn-padr', Pipeline(steps=[standard_scaler, knn])))\n",
        "pipelines.append(('knn-norm', Pipeline(steps=[min_max_scaler, knn])))\n",
        "\n",
        "param_grid = {\n",
        "    'KNN__n_neighbors': [1,3,5,7,9,11,13,15,17,19,21],\n",
        "    'KNN__metric': [\"euclidean\", \"manhattan\", \"minkowski\"],\n",
        "}\n",
        "\n",
        "# Prepara e executa o GridSearchCV\n",
        "for name, model in pipelines:\n",
        "    grid = GridSearchCV(estimator=model, param_grid=param_grid, scoring=scoring, cv=kfold)\n",
        "    grid.fit(X_train, y_train)\n",
        "    # imprime a melhor configuração\n",
        "    print(\"Sem tratamento de missings: %s - Melhor: %f usando %s\" % (name, grid.best_score_, grid.best_params_))"
      ],
      "metadata": {
        "colab": {
          "base_uri": "https://localhost:8080/"
        },
        "id": "9DvFWt0rzp8m",
        "outputId": "44de5f51-b199-431b-c87a-b16ece515ea3"
      },
      "execution_count": null,
      "outputs": [
        {
          "output_type": "stream",
          "name": "stdout",
          "text": [
            "Sem tratamento de missings: knn-orig - Melhor: 0.718889 usando {'KNN__metric': 'euclidean', 'KNN__n_neighbors': 17}\n",
            "Sem tratamento de missings: knn-padr - Melhor: 0.985794 usando {'KNN__metric': 'euclidean', 'KNN__n_neighbors': 3}\n",
            "Sem tratamento de missings: knn-norm - Melhor: 1.000000 usando {'KNN__metric': 'manhattan', 'KNN__n_neighbors': 3}\n"
          ]
        }
      ]
    },
    {
      "cell_type": "markdown",
      "source": [
        "O modelo KNN apresentou diferentes resultados de desempenho dependendo do tratamento de missing values aplicado.\n",
        "\n",
        "No caso do modelo KNN sem tratamento de missing values (knn-orig), obteve-se uma acurácia de aproximadamente 71,9%.\n",
        "\n",
        "Com o tratamento de missing values usando o StandardScaler (knn-padr), o modelo obteve uma melhoria significativa no desempenho, com uma acurácia de aproximadamente 98,6%.\n",
        "\n",
        "Já com o tratamento de missing values usando o MinMaxScaler (knn-norm), o modelo alcançou uma acurácia perfeita de 100%.\n",
        "\n",
        "Esses resultados mostram a importância do tratamento adequado dos missing values para melhorar o desempenho do modelo KNN na classificação dos dados."
      ],
      "metadata": {
        "id": "jH4L1Km3GBdO"
      }
    },
    {
      "cell_type": "markdown",
      "source": [
        "Irei ajustar dois dos principais hiperparâmetros do algoritmo NB: o valor de alpha (suavização de Laplace) e a distribuição de probabilidade utilizada.\n",
        "\n",
        "No Scikit-Learn, o algoritmo NB (implementado pela classe GaussianNB) assume uma distribuição Gaussiana e um valor de alpha igual a 1.0 por padrão.\n",
        "\n",
        "Iremos testar diferentes valores de alpha e avaliar cada combinação de hiperparâmetros usando a função GridSearchCV. Neste caso, iremos utilizar a versão original dos dados, que produziu melhores resultados, ao invés dos dados padronizados utilizados anteriormente para o KNN.\n",
        "\n",
        "\n",
        "\n",
        "\n"
      ],
      "metadata": {
        "id": "IG_3HZC_6eCZ"
      }
    },
    {
      "cell_type": "code",
      "source": [
        "np.random.seed(8) # definindo uma semente global\n",
        "\n",
        "# Definindo o modelo\n",
        "model = GaussianNB()\n",
        "\n",
        "# Definindo os parâmetros para ajuste\n",
        "param_grid = {\n",
        "    'var_smoothing': [1e-9, 1e-8, 1e-7, 1e-6, 1e-5]\n",
        "}\n",
        "\n",
        "# Criando o objeto GridSearchCV\n",
        "grid = GridSearchCV(estimator=model, param_grid=param_grid, scoring=scoring, cv=kfold)\n",
        "\n",
        "# Ajustando o modelo com os dados de treinamento\n",
        "grid.fit(X_train, y_train)\n",
        "\n",
        "# Imprimindo os resultados\n",
        "print(\"Melhor: %f usando %s\" % (grid.best_score_, grid.best_params_))\n",
        "\n",
        "# Obtendo as previsões no conjunto de teste\n",
        "predictions = grid.best_estimator_.predict(X_test)\n",
        "\n",
        "# Calculando a acurácia no conjunto de teste\n",
        "accuracy = accuracy_score(y_test, predictions)\n",
        "print(\"Accuracy: %.2f%%\" % (accuracy * 100.0))"
      ],
      "metadata": {
        "colab": {
          "base_uri": "https://localhost:8080/"
        },
        "id": "WXR_NB1T5_rh",
        "outputId": "85d397f3-a6cb-4675-da3b-5b98e515794e"
      },
      "execution_count": null,
      "outputs": [
        {
          "output_type": "stream",
          "name": "stdout",
          "text": [
            "Melhor: 0.934603 usando {'var_smoothing': 1e-09}\n",
            "Accuracy: 93.18%\n"
          ]
        }
      ]
    },
    {
      "cell_type": "markdown",
      "source": [
        "Com base nos resultados obtidos para o modelo de Naive Bayes, podemos observar que a melhor configuração encontrada foi utilizando um valor de suavização (var_smoothing) igual a 1e-09. Isso resultou em uma acurácia de 93.46%. Comparando com os modelos anteriores, como o SVM, Regressão Logística e o  Voting entre outros, o qual apresentou melhora na acurácia e não teve mudanças significativas.\n",
        "\n",
        "Considerando esses resultados, iremos finalizar o modelo de Naive Bayes treinando-o em todo o conjunto de dados de treinamento, sem a aplicação da validação cruzada. Em seguida, faremos as predições para o conjunto de dados de teste que foi separado inicialmente, permitindo uma comparação dos resultados obtidos até o momento. Para essa etapa final, vamos utilizar novamente o modelo de Naive Bayes, que foi um dos modelos que apresentou melhor acurácia para o problema.."
      ],
      "metadata": {
        "id": "CzgmQ5FwBzyP"
      }
    },
    {
      "cell_type": "code",
      "source": [
        "from sklearn.naive_bayes import GaussianNB\n",
        "\n",
        "# Preparação do modelo NB\n",
        "model_nb = GaussianNB()\n",
        "model_nb.fit(X_train, y_train)\n",
        "\n",
        "# Estimativa da acurácia no conjunto de teste\n",
        "predictions_nb = model_nb.predict(X_test)\n",
        "print('Accuracy score (NB) = ', accuracy_score(y_test, predictions_nb))\n",
        "\n",
        "# Matriz de confusão NB\n",
        "cm_nb = confusion_matrix(y_test, predictions_nb)\n",
        "\n",
        "# Plotagem da matriz de confusão NB\n",
        "sns.heatmap(cm_nb, annot=True, fmt='d', cmap='Blues')\n",
        "plt.xlabel('Predicted')\n",
        "plt.ylabel('True')\n",
        "plt.title('Confusion Matrix (NB)')\n",
        "plt.show()\n",
        "\n",
        "print(classification_report(y_test, predictions_nb))"
      ],
      "metadata": {
        "colab": {
          "base_uri": "https://localhost:8080/",
          "height": 663
        },
        "id": "b02w63C_GdEt",
        "outputId": "548a63a2-39a4-4c3c-a846-3f6abb479a7f"
      },
      "execution_count": null,
      "outputs": [
        {
          "output_type": "stream",
          "name": "stdout",
          "text": [
            "Accuracy score (NB) =  0.9318181818181818\n"
          ]
        },
        {
          "output_type": "display_data",
          "data": {
            "text/plain": [
              "<Figure size 640x480 with 2 Axes>"
            ],
            "image/png": "[encoded data removed]"
          },
          "metadata": {}
        },
        {
          "output_type": "stream",
          "name": "stdout",
          "text": [
            "              precision    recall  f1-score   support\n",
            "\n",
            "           1       1.00      0.80      0.89        15\n",
            "           2       0.64      0.90      0.75        10\n",
            "           3       0.98      0.97      0.98        63\n",
            "\n",
            "    accuracy                           0.93        88\n",
            "   macro avg       0.88      0.89      0.87        88\n",
            "weighted avg       0.95      0.93      0.94        88\n",
            "\n"
          ]
        }
      ]
    },
    {
      "cell_type": "markdown",
      "source": [
        "O modelo Naive Bayes apresentou uma alta acurácia de aproximadamente 93,2% na classificação das amostras do conjunto de teste. As métricas de precisão, recall e F1-score variaram para cada classe, indicando diferentes níveis de desempenho para cada uma delas. No geral, o modelo teve um bom desempenho na identificação das classes 1 e 3, com alta precisão, recall e F1-score. No entanto, para a classe 2, as métricas foram um pouco mais baixas, indicando uma capacidade inferior do modelo em identificar corretamente essa classe. Considerando a média ponderada das métricas, o modelo apresentou um bom desempenho geral na classificação das amostras."
      ],
      "metadata": {
        "id": "l9PpyaHBP9j2"
      }
    }
  ]
}